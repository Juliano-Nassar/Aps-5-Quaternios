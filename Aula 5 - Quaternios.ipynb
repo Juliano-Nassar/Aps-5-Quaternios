{
 "cells": [
  {
   "cell_type": "markdown",
   "metadata": {},
   "source": [
    "# APS 5 - Quatérnios"
   ]
  },
  {
   "cell_type": "code",
   "execution_count": 1,
   "metadata": {},
   "outputs": [],
   "source": [
    "import numpy as np\n",
    "from methods import Quaternio, Euler_Vector, Vector"
   ]
  },
  {
   "cell_type": "markdown",
   "metadata": {},
   "source": [
    "## 1. Calcule o comprimento dos seguinte quatérnios:"
   ]
  },
  {
   "cell_type": "markdown",
   "metadata": {},
   "source": [
    "### a) 0.024 -0.153i + 0.976j -0.153k"
   ]
  },
  {
   "cell_type": "code",
   "execution_count": 2,
   "metadata": {},
   "outputs": [
    {
     "name": "stdout",
     "output_type": "stream",
     "text": [
      "q_a: 0.024 + -0.153i + 0.976j + -0.153k\n",
      "\n",
      "Comprimento: 0.9999849998874983\n"
     ]
    }
   ],
   "source": [
    "q_a = Quaternio([0.024,-0.153, 0.976, -0.153])\n",
    "print(f'q_a: {q_a}')\n",
    "print('')\n",
    "print(f'Comprimento: {q_a.length()}')"
   ]
  },
  {
   "cell_type": "markdown",
   "metadata": {},
   "source": [
    "### b) -0.559 +0.169i - 0.574j -0.574k"
   ]
  },
  {
   "cell_type": "code",
   "execution_count": 3,
   "metadata": {},
   "outputs": [
    {
     "name": "stdout",
     "output_type": "stream",
     "text": [
      "q_b: -0.559 + 0.169i + -0.574j + -0.574k\n",
      "\n",
      "Comprimento: 0.9999969999954998\n"
     ]
    }
   ],
   "source": [
    "q_b = Quaternio([-0.559, 0.169, -0.574, -0.574])\n",
    "print(f'q_b: {q_b}')\n",
    "print('')\n",
    "print(f'Comprimento: {q_b.length()}')"
   ]
  },
  {
   "cell_type": "markdown",
   "metadata": {},
   "source": [
    "## 2. Faça a multiplicação dos quatérnions anteriores, ou seja,"
   ]
  },
  {
   "cell_type": "markdown",
   "metadata": {},
   "source": [
    "### (0.024 -0.153i + 0.976j -0.153k)(-0.559 +0.169i - 0.574j -0.574k):"
   ]
  },
  {
   "cell_type": "code",
   "execution_count": 4,
   "metadata": {},
   "outputs": [
    {
     "name": "stdout",
     "output_type": "stream",
     "text": [
      "q_c: 0.48484299999999997 + -0.5584629999999999i + -0.673039j + -0.005371000000000004k\n"
     ]
    }
   ],
   "source": [
    "q_c = q_a*q_b\n",
    "print(f'q_c: {q_c}')"
   ]
  },
  {
   "cell_type": "markdown",
   "metadata": {},
   "source": [
    "## 3. Calcule o comprimento do quatérnio calculado no exercício anterior. O que aconteceu de interessante com os valores?\n",
    "O comprimento se manteve o mesmo"
   ]
  },
  {
   "cell_type": "code",
   "execution_count": 5,
   "metadata": {},
   "outputs": [
    {
     "name": "stdout",
     "output_type": "stream",
     "text": [
      "Comprimento: 0.9999819999279987\n"
     ]
    }
   ],
   "source": [
    "print(f'Comprimento: {q_c.length()}')"
   ]
  },
  {
   "cell_type": "markdown",
   "metadata": {},
   "source": [
    "## 4. Normalize o seguinte quatérnio para que ele seja unitário:"
   ]
  },
  {
   "cell_type": "markdown",
   "metadata": {},
   "source": [
    "### a) 2 +2i -1j -4k"
   ]
  },
  {
   "cell_type": "code",
   "execution_count": 6,
   "metadata": {},
   "outputs": [
    {
     "name": "stdout",
     "output_type": "stream",
     "text": [
      "q_4_a: 2 + 2i + -1j + -4k\n",
      "\n",
      "Comprimento: 5.0\n"
     ]
    }
   ],
   "source": [
    "q_4_a = Quaternio([2, 2, -1, -4])\n",
    "print(f'q_4_a: {q_4_a}')\n",
    "print('')\n",
    "print(f'Comprimento: {q_4_a.length()}')"
   ]
  },
  {
   "cell_type": "code",
   "execution_count": 7,
   "metadata": {},
   "outputs": [
    {
     "name": "stdout",
     "output_type": "stream",
     "text": [
      "q_4_a_norm: 0.4 + 0.4i + -0.2j + -0.8k\n",
      "\n",
      "Comprimento: 1.0\n"
     ]
    }
   ],
   "source": [
    "q_4_a_norm = q_4_a.normalized()\n",
    "print(f'q_4_a_norm: {q_4_a_norm}')\n",
    "print('')\n",
    "print(f'Comprimento: {q_4_a_norm.length()}')"
   ]
  },
  {
   "cell_type": "markdown",
   "metadata": {},
   "source": [
    "## 5. Vamos verificar se os quatérnios funcionam mesmo."
   ]
  },
  {
   "cell_type": "markdown",
   "metadata": {},
   "source": [
    "### a) Assuma um ponto (0, 1, 0), faça uma rotação por Z de 45° usando a matriz de rotação por coordenadas de Euler e depois por quatérnios, verifique se os resultados coincidem."
   ]
  },
  {
   "cell_type": "code",
   "execution_count": 8,
   "metadata": {},
   "outputs": [],
   "source": [
    "angulo = np.pi/4"
   ]
  },
  {
   "cell_type": "markdown",
   "metadata": {},
   "source": [
    "#### Euler"
   ]
  },
  {
   "cell_type": "code",
   "execution_count": 9,
   "metadata": {},
   "outputs": [
    {
     "name": "stdout",
     "output_type": "stream",
     "text": [
      " |0.707 -0.707 0.000|\n",
      " |0.707 0.707 0.000|\n",
      " |0.000 0.000 1.000|\n"
     ]
    }
   ],
   "source": [
    "Rz_euler = Euler_Vector(angle=angulo,axis = 'z')\n",
    "print(Rz_euler)"
   ]
  },
  {
   "cell_type": "code",
   "execution_count": 10,
   "metadata": {},
   "outputs": [
    {
     "name": "stdout",
     "output_type": "stream",
     "text": [
      "Rz_Euler * ponto: |-0.707 0.707 0.000|\n"
     ]
    }
   ],
   "source": [
    "ponto = Vector([0,1,0])\n",
    "Rz_euler_p = Rz_euler*ponto\n",
    "print(f'Rz_Euler * ponto:{Rz_euler_p}')"
   ]
  },
  {
   "cell_type": "markdown",
   "metadata": {},
   "source": [
    "#### Quatérnios"
   ]
  },
  {
   "cell_type": "code",
   "execution_count": 11,
   "metadata": {},
   "outputs": [
    {
     "name": "stdout",
     "output_type": "stream",
     "text": [
      "z_quat:\n",
      "0.9238795325112867 + 0.0i + 0.0j + 0.3826834323650898k\n",
      "\n",
      " |0.707 -0.707 0.000 0.000|\n",
      " |0.707 0.707 0.000 0.000|\n",
      " |0.000 0.000 1.000 0.000|\n",
      " |0.000 0.000 0.000 1.000|\n"
     ]
    }
   ],
   "source": [
    "z_quat = Quaternio(angle=angulo,axis=[0,0,1])\n",
    "Rz_quat = z_quat.rotation_matrix()\n",
    "print('z_quat:')\n",
    "print(z_quat)\n",
    "print('')\n",
    "print(Rz_quat)"
   ]
  },
  {
   "cell_type": "code",
   "execution_count": 12,
   "metadata": {},
   "outputs": [
    {
     "name": "stdout",
     "output_type": "stream",
     "text": [
      "Rz_quat * ponto: |-0.707 0.707 0.000 1.000|\n"
     ]
    }
   ],
   "source": [
    "ponto = Vector([0,1,0,1])\n",
    "Rz_quat_p = Rz_quat*ponto\n",
    "print(f'Rz_quat * ponto:{Rz_quat_p}')"
   ]
  },
  {
   "cell_type": "markdown",
   "metadata": {},
   "source": [
    "### b) Continue a rotação do ponto acima, porém agora além da rotação em Z, faça também uma rotação de 45° em X"
   ]
  },
  {
   "cell_type": "markdown",
   "metadata": {},
   "source": [
    "#### Euler"
   ]
  },
  {
   "cell_type": "code",
   "execution_count": 13,
   "metadata": {},
   "outputs": [
    {
     "name": "stdout",
     "output_type": "stream",
     "text": [
      " |1.000 0.000 0.000|\n",
      " |0.000 0.707 -0.707|\n",
      " |0.000 0.707 0.707|\n"
     ]
    }
   ],
   "source": [
    "Rx_euler = Euler_Vector(angle=angulo,axis = 'x')\n",
    "print(Rx_euler)"
   ]
  },
  {
   "cell_type": "code",
   "execution_count": 14,
   "metadata": {},
   "outputs": [
    {
     "name": "stdout",
     "output_type": "stream",
     "text": [
      "Rx_euler * Rz_euler_p: |-0.707 0.500 0.500|\n"
     ]
    }
   ],
   "source": [
    "RzRx_euler_p = Rx_euler*Rz_euler_p\n",
    "print(f'Rx_euler * Rz_euler_p:{RzRx_euler_p}')"
   ]
  },
  {
   "cell_type": "markdown",
   "metadata": {},
   "source": [
    "#### Quatérnios"
   ]
  },
  {
   "cell_type": "code",
   "execution_count": 15,
   "metadata": {},
   "outputs": [
    {
     "name": "stdout",
     "output_type": "stream",
     "text": [
      "x_quat:\n",
      "0.9238795325112867 + 0.3826834323650898i + 0.0j + 0.0k\n",
      "Rx_quat\n",
      " |1.000 0.000 0.000 0.000|\n",
      " |0.000 0.707 -0.707 0.000|\n",
      " |0.000 0.707 0.707 0.000|\n",
      " |0.000 0.000 0.000 1.000|\n"
     ]
    }
   ],
   "source": [
    "x_quat = Quaternio(angle=angulo,axis=[1,0,0])\n",
    "Rx_quat = x_quat.rotation_matrix()\n",
    "print('x_quat:')\n",
    "print(x_quat)\n",
    "print('Rx_quat')\n",
    "print(Rx_quat)"
   ]
  },
  {
   "cell_type": "code",
   "execution_count": 16,
   "metadata": {
    "scrolled": false
   },
   "outputs": [
    {
     "name": "stdout",
     "output_type": "stream",
     "text": [
      "Rx_quat * Rz_quat_p: |-0.707 0.500 0.500 1.000|\n"
     ]
    }
   ],
   "source": [
    "RzRx_quat_p = Rx_quat*Rz_quat_p\n",
    "print(f'Rx_quat * Rz_quat_p:{RzRx_quat_p}')"
   ]
  },
  {
   "cell_type": "markdown",
   "metadata": {},
   "source": [
    "### c) Continue mais uma vez a rotação do ponto, agora com mais uma rotação em Y de 45°."
   ]
  },
  {
   "cell_type": "markdown",
   "metadata": {},
   "source": [
    "#### Euler"
   ]
  },
  {
   "cell_type": "code",
   "execution_count": 17,
   "metadata": {},
   "outputs": [
    {
     "name": "stdout",
     "output_type": "stream",
     "text": [
      " |0.707 0.000 0.707|\n",
      " |0.000 1.000 0.000|\n",
      " |-0.707 0.000 0.707|\n"
     ]
    }
   ],
   "source": [
    "Ry_euler = Euler_Vector(angle=angulo,axis = 'y')\n",
    "print(Ry_euler)"
   ]
  },
  {
   "cell_type": "code",
   "execution_count": 18,
   "metadata": {},
   "outputs": [
    {
     "name": "stdout",
     "output_type": "stream",
     "text": [
      "Ry_euler * RzRx_euler_p: |-0.146 0.500 0.854|\n"
     ]
    }
   ],
   "source": [
    "RzRxRy_euler_p = Ry_euler*RzRx_euler_p\n",
    "print(f'Ry_euler * RzRx_euler_p:{RzRxRy_euler_p}')"
   ]
  },
  {
   "cell_type": "markdown",
   "metadata": {},
   "source": [
    "#### Quatérnios"
   ]
  },
  {
   "cell_type": "code",
   "execution_count": 19,
   "metadata": {},
   "outputs": [
    {
     "name": "stdout",
     "output_type": "stream",
     "text": [
      "y_quat:\n",
      "0.9238795325112867 + 0.0i + 0.3826834323650898j + 0.0k\n",
      "Ry_quat\n",
      " |0.707 0.000 0.707 0.000|\n",
      " |0.000 1.000 0.000 0.000|\n",
      " |-0.707 0.000 0.707 0.000|\n",
      " |0.000 0.000 0.000 1.000|\n"
     ]
    }
   ],
   "source": [
    "y_quat = Quaternio(angle=angulo,axis=[0,1,0])\n",
    "Ry_quat = y_quat.rotation_matrix()\n",
    "print('y_quat:')\n",
    "print(y_quat)\n",
    "print('Ry_quat')\n",
    "print(Ry_quat)"
   ]
  },
  {
   "cell_type": "code",
   "execution_count": 20,
   "metadata": {
    "scrolled": false
   },
   "outputs": [
    {
     "name": "stdout",
     "output_type": "stream",
     "text": [
      "Ry_quat * RzRx_quat_p: |-0.146 0.500 0.854 1.000|\n"
     ]
    }
   ],
   "source": [
    "RzRxRy_quat_p = Ry_quat*RzRx_quat_p\n",
    "print(f'Ry_quat * RzRx_quat_p:{RzRxRy_quat_p}')"
   ]
  }
 ],
 "metadata": {
  "kernelspec": {
   "display_name": "Python 3",
   "language": "python",
   "name": "python3"
  },
  "language_info": {
   "codemirror_mode": {
    "name": "ipython",
    "version": 3
   },
   "file_extension": ".py",
   "mimetype": "text/x-python",
   "name": "python",
   "nbconvert_exporter": "python",
   "pygments_lexer": "ipython3",
   "version": "3.8.3"
  }
 },
 "nbformat": 4,
 "nbformat_minor": 4
}
